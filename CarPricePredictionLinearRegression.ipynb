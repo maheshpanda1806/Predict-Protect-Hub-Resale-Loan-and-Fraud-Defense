{
  "nbformat": 4,
  "nbformat_minor": 0,
  "metadata": {
    "colab": {
      "provenance": []
    },
    "kernelspec": {
      "name": "python3",
      "display_name": "Python 3"
    },
    "language_info": {
      "name": "python"
    }
  },
  "cells": [
    {
      "cell_type": "code",
      "execution_count": null,
      "metadata": {
        "id": "m2X0xxLiUrYw"
      },
      "outputs": [],
      "source": [
        "import numpy as np\n",
        "import pandas as pd\n",
        "import matplotlib.pyplot as plt\n",
        "import seaborn as sns"
      ]
    },
    {
      "cell_type": "code",
      "source": [
        "df = pd.read_csv('/content/Cardetails.csv')\n",
        "df.head()\n"
      ],
      "metadata": {
        "colab": {
          "base_uri": "https://localhost:8080/",
          "height": 504
        },
        "id": "Te8p800cVMTG",
        "outputId": "5771ec79-02e8-45cc-b113-67137774eab7"
      },
      "execution_count": null,
      "outputs": [
        {
          "output_type": "execute_result",
          "data": {
            "text/plain": [
              "                           name  year  selling_price  km_driven    fuel  \\\n",
              "0        Maruti Swift Dzire VDI  2014         450000     145500  Diesel   \n",
              "1  Skoda Rapid 1.5 TDI Ambition  2014         370000     120000  Diesel   \n",
              "2      Honda City 2017-2020 EXi  2006         158000     140000  Petrol   \n",
              "3     Hyundai i20 Sportz Diesel  2010         225000     127000  Diesel   \n",
              "4        Maruti Swift VXI BSIII  2007         130000     120000  Petrol   \n",
              "\n",
              "  seller_type transmission         owner     mileage   engine   max_power  \\\n",
              "0  Individual       Manual   First Owner   23.4 kmpl  1248 CC      74 bhp   \n",
              "1  Individual       Manual  Second Owner  21.14 kmpl  1498 CC  103.52 bhp   \n",
              "2  Individual       Manual   Third Owner   17.7 kmpl  1497 CC      78 bhp   \n",
              "3  Individual       Manual   First Owner   23.0 kmpl  1396 CC      90 bhp   \n",
              "4  Individual       Manual   First Owner   16.1 kmpl  1298 CC    88.2 bhp   \n",
              "\n",
              "                     torque  seats  \n",
              "0            190Nm@ 2000rpm    5.0  \n",
              "1       250Nm@ 1500-2500rpm    5.0  \n",
              "2     12.7@ 2,700(kgm@ rpm)    5.0  \n",
              "3  22.4 kgm at 1750-2750rpm    5.0  \n",
              "4     11.5@ 4,500(kgm@ rpm)    5.0  "
            ],
            "text/html": [
              "\n",
              "  <div id=\"df-e4bec658-e20c-457f-b6cc-5c5106f310ce\" class=\"colab-df-container\">\n",
              "    <div>\n",
              "<style scoped>\n",
              "    .dataframe tbody tr th:only-of-type {\n",
              "        vertical-align: middle;\n",
              "    }\n",
              "\n",
              "    .dataframe tbody tr th {\n",
              "        vertical-align: top;\n",
              "    }\n",
              "\n",
              "    .dataframe thead th {\n",
              "        text-align: right;\n",
              "    }\n",
              "</style>\n",
              "<table border=\"1\" class=\"dataframe\">\n",
              "  <thead>\n",
              "    <tr style=\"text-align: right;\">\n",
              "      <th></th>\n",
              "      <th>name</th>\n",
              "      <th>year</th>\n",
              "      <th>selling_price</th>\n",
              "      <th>km_driven</th>\n",
              "      <th>fuel</th>\n",
              "      <th>seller_type</th>\n",
              "      <th>transmission</th>\n",
              "      <th>owner</th>\n",
              "      <th>mileage</th>\n",
              "      <th>engine</th>\n",
              "      <th>max_power</th>\n",
              "      <th>torque</th>\n",
              "      <th>seats</th>\n",
              "    </tr>\n",
              "  </thead>\n",
              "  <tbody>\n",
              "    <tr>\n",
              "      <th>0</th>\n",
              "      <td>Maruti Swift Dzire VDI</td>\n",
              "      <td>2014</td>\n",
              "      <td>450000</td>\n",
              "      <td>145500</td>\n",
              "      <td>Diesel</td>\n",
              "      <td>Individual</td>\n",
              "      <td>Manual</td>\n",
              "      <td>First Owner</td>\n",
              "      <td>23.4 kmpl</td>\n",
              "      <td>1248 CC</td>\n",
              "      <td>74 bhp</td>\n",
              "      <td>190Nm@ 2000rpm</td>\n",
              "      <td>5.0</td>\n",
              "    </tr>\n",
              "    <tr>\n",
              "      <th>1</th>\n",
              "      <td>Skoda Rapid 1.5 TDI Ambition</td>\n",
              "      <td>2014</td>\n",
              "      <td>370000</td>\n",
              "      <td>120000</td>\n",
              "      <td>Diesel</td>\n",
              "      <td>Individual</td>\n",
              "      <td>Manual</td>\n",
              "      <td>Second Owner</td>\n",
              "      <td>21.14 kmpl</td>\n",
              "      <td>1498 CC</td>\n",
              "      <td>103.52 bhp</td>\n",
              "      <td>250Nm@ 1500-2500rpm</td>\n",
              "      <td>5.0</td>\n",
              "    </tr>\n",
              "    <tr>\n",
              "      <th>2</th>\n",
              "      <td>Honda City 2017-2020 EXi</td>\n",
              "      <td>2006</td>\n",
              "      <td>158000</td>\n",
              "      <td>140000</td>\n",
              "      <td>Petrol</td>\n",
              "      <td>Individual</td>\n",
              "      <td>Manual</td>\n",
              "      <td>Third Owner</td>\n",
              "      <td>17.7 kmpl</td>\n",
              "      <td>1497 CC</td>\n",
              "      <td>78 bhp</td>\n",
              "      <td>12.7@ 2,700(kgm@ rpm)</td>\n",
              "      <td>5.0</td>\n",
              "    </tr>\n",
              "    <tr>\n",
              "      <th>3</th>\n",
              "      <td>Hyundai i20 Sportz Diesel</td>\n",
              "      <td>2010</td>\n",
              "      <td>225000</td>\n",
              "      <td>127000</td>\n",
              "      <td>Diesel</td>\n",
              "      <td>Individual</td>\n",
              "      <td>Manual</td>\n",
              "      <td>First Owner</td>\n",
              "      <td>23.0 kmpl</td>\n",
              "      <td>1396 CC</td>\n",
              "      <td>90 bhp</td>\n",
              "      <td>22.4 kgm at 1750-2750rpm</td>\n",
              "      <td>5.0</td>\n",
              "    </tr>\n",
              "    <tr>\n",
              "      <th>4</th>\n",
              "      <td>Maruti Swift VXI BSIII</td>\n",
              "      <td>2007</td>\n",
              "      <td>130000</td>\n",
              "      <td>120000</td>\n",
              "      <td>Petrol</td>\n",
              "      <td>Individual</td>\n",
              "      <td>Manual</td>\n",
              "      <td>First Owner</td>\n",
              "      <td>16.1 kmpl</td>\n",
              "      <td>1298 CC</td>\n",
              "      <td>88.2 bhp</td>\n",
              "      <td>11.5@ 4,500(kgm@ rpm)</td>\n",
              "      <td>5.0</td>\n",
              "    </tr>\n",
              "  </tbody>\n",
              "</table>\n",
              "</div>\n",
              "    <div class=\"colab-df-buttons\">\n",
              "\n",
              "  <div class=\"colab-df-container\">\n",
              "    <button class=\"colab-df-convert\" onclick=\"convertToInteractive('df-e4bec658-e20c-457f-b6cc-5c5106f310ce')\"\n",
              "            title=\"Convert this dataframe to an interactive table.\"\n",
              "            style=\"display:none;\">\n",
              "\n",
              "  <svg xmlns=\"http://www.w3.org/2000/svg\" height=\"24px\" viewBox=\"0 -960 960 960\">\n",
              "    <path d=\"M120-120v-720h720v720H120Zm60-500h600v-160H180v160Zm220 220h160v-160H400v160Zm0 220h160v-160H400v160ZM180-400h160v-160H180v160Zm440 0h160v-160H620v160ZM180-180h160v-160H180v160Zm440 0h160v-160H620v160Z\"/>\n",
              "  </svg>\n",
              "    </button>\n",
              "\n",
              "  <style>\n",
              "    .colab-df-container {\n",
              "      display:flex;\n",
              "      gap: 12px;\n",
              "    }\n",
              "\n",
              "    .colab-df-convert {\n",
              "      background-color: #E8F0FE;\n",
              "      border: none;\n",
              "      border-radius: 50%;\n",
              "      cursor: pointer;\n",
              "      display: none;\n",
              "      fill: #1967D2;\n",
              "      height: 32px;\n",
              "      padding: 0 0 0 0;\n",
              "      width: 32px;\n",
              "    }\n",
              "\n",
              "    .colab-df-convert:hover {\n",
              "      background-color: #E2EBFA;\n",
              "      box-shadow: 0px 1px 2px rgba(60, 64, 67, 0.3), 0px 1px 3px 1px rgba(60, 64, 67, 0.15);\n",
              "      fill: #174EA6;\n",
              "    }\n",
              "\n",
              "    .colab-df-buttons div {\n",
              "      margin-bottom: 4px;\n",
              "    }\n",
              "\n",
              "    [theme=dark] .colab-df-convert {\n",
              "      background-color: #3B4455;\n",
              "      fill: #D2E3FC;\n",
              "    }\n",
              "\n",
              "    [theme=dark] .colab-df-convert:hover {\n",
              "      background-color: #434B5C;\n",
              "      box-shadow: 0px 1px 3px 1px rgba(0, 0, 0, 0.15);\n",
              "      filter: drop-shadow(0px 1px 2px rgba(0, 0, 0, 0.3));\n",
              "      fill: #FFFFFF;\n",
              "    }\n",
              "  </style>\n",
              "\n",
              "    <script>\n",
              "      const buttonEl =\n",
              "        document.querySelector('#df-e4bec658-e20c-457f-b6cc-5c5106f310ce button.colab-df-convert');\n",
              "      buttonEl.style.display =\n",
              "        google.colab.kernel.accessAllowed ? 'block' : 'none';\n",
              "\n",
              "      async function convertToInteractive(key) {\n",
              "        const element = document.querySelector('#df-e4bec658-e20c-457f-b6cc-5c5106f310ce');\n",
              "        const dataTable =\n",
              "          await google.colab.kernel.invokeFunction('convertToInteractive',\n",
              "                                                    [key], {});\n",
              "        if (!dataTable) return;\n",
              "\n",
              "        const docLinkHtml = 'Like what you see? Visit the ' +\n",
              "          '<a target=\"_blank\" href=https://colab.research.google.com/notebooks/data_table.ipynb>data table notebook</a>'\n",
              "          + ' to learn more about interactive tables.';\n",
              "        element.innerHTML = '';\n",
              "        dataTable['output_type'] = 'display_data';\n",
              "        await google.colab.output.renderOutput(dataTable, element);\n",
              "        const docLink = document.createElement('div');\n",
              "        docLink.innerHTML = docLinkHtml;\n",
              "        element.appendChild(docLink);\n",
              "      }\n",
              "    </script>\n",
              "  </div>\n",
              "\n",
              "\n",
              "<div id=\"df-08c920a5-4012-4660-a177-860df23d08c3\">\n",
              "  <button class=\"colab-df-quickchart\" onclick=\"quickchart('df-08c920a5-4012-4660-a177-860df23d08c3')\"\n",
              "            title=\"Suggest charts\"\n",
              "            style=\"display:none;\">\n",
              "\n",
              "<svg xmlns=\"http://www.w3.org/2000/svg\" height=\"24px\"viewBox=\"0 0 24 24\"\n",
              "     width=\"24px\">\n",
              "    <g>\n",
              "        <path d=\"M19 3H5c-1.1 0-2 .9-2 2v14c0 1.1.9 2 2 2h14c1.1 0 2-.9 2-2V5c0-1.1-.9-2-2-2zM9 17H7v-7h2v7zm4 0h-2V7h2v10zm4 0h-2v-4h2v4z\"/>\n",
              "    </g>\n",
              "</svg>\n",
              "  </button>\n",
              "\n",
              "<style>\n",
              "  .colab-df-quickchart {\n",
              "      --bg-color: #E8F0FE;\n",
              "      --fill-color: #1967D2;\n",
              "      --hover-bg-color: #E2EBFA;\n",
              "      --hover-fill-color: #174EA6;\n",
              "      --disabled-fill-color: #AAA;\n",
              "      --disabled-bg-color: #DDD;\n",
              "  }\n",
              "\n",
              "  [theme=dark] .colab-df-quickchart {\n",
              "      --bg-color: #3B4455;\n",
              "      --fill-color: #D2E3FC;\n",
              "      --hover-bg-color: #434B5C;\n",
              "      --hover-fill-color: #FFFFFF;\n",
              "      --disabled-bg-color: #3B4455;\n",
              "      --disabled-fill-color: #666;\n",
              "  }\n",
              "\n",
              "  .colab-df-quickchart {\n",
              "    background-color: var(--bg-color);\n",
              "    border: none;\n",
              "    border-radius: 50%;\n",
              "    cursor: pointer;\n",
              "    display: none;\n",
              "    fill: var(--fill-color);\n",
              "    height: 32px;\n",
              "    padding: 0;\n",
              "    width: 32px;\n",
              "  }\n",
              "\n",
              "  .colab-df-quickchart:hover {\n",
              "    background-color: var(--hover-bg-color);\n",
              "    box-shadow: 0 1px 2px rgba(60, 64, 67, 0.3), 0 1px 3px 1px rgba(60, 64, 67, 0.15);\n",
              "    fill: var(--button-hover-fill-color);\n",
              "  }\n",
              "\n",
              "  .colab-df-quickchart-complete:disabled,\n",
              "  .colab-df-quickchart-complete:disabled:hover {\n",
              "    background-color: var(--disabled-bg-color);\n",
              "    fill: var(--disabled-fill-color);\n",
              "    box-shadow: none;\n",
              "  }\n",
              "\n",
              "  .colab-df-spinner {\n",
              "    border: 2px solid var(--fill-color);\n",
              "    border-color: transparent;\n",
              "    border-bottom-color: var(--fill-color);\n",
              "    animation:\n",
              "      spin 1s steps(1) infinite;\n",
              "  }\n",
              "\n",
              "  @keyframes spin {\n",
              "    0% {\n",
              "      border-color: transparent;\n",
              "      border-bottom-color: var(--fill-color);\n",
              "      border-left-color: var(--fill-color);\n",
              "    }\n",
              "    20% {\n",
              "      border-color: transparent;\n",
              "      border-left-color: var(--fill-color);\n",
              "      border-top-color: var(--fill-color);\n",
              "    }\n",
              "    30% {\n",
              "      border-color: transparent;\n",
              "      border-left-color: var(--fill-color);\n",
              "      border-top-color: var(--fill-color);\n",
              "      border-right-color: var(--fill-color);\n",
              "    }\n",
              "    40% {\n",
              "      border-color: transparent;\n",
              "      border-right-color: var(--fill-color);\n",
              "      border-top-color: var(--fill-color);\n",
              "    }\n",
              "    60% {\n",
              "      border-color: transparent;\n",
              "      border-right-color: var(--fill-color);\n",
              "    }\n",
              "    80% {\n",
              "      border-color: transparent;\n",
              "      border-right-color: var(--fill-color);\n",
              "      border-bottom-color: var(--fill-color);\n",
              "    }\n",
              "    90% {\n",
              "      border-color: transparent;\n",
              "      border-bottom-color: var(--fill-color);\n",
              "    }\n",
              "  }\n",
              "</style>\n",
              "\n",
              "  <script>\n",
              "    async function quickchart(key) {\n",
              "      const quickchartButtonEl =\n",
              "        document.querySelector('#' + key + ' button');\n",
              "      quickchartButtonEl.disabled = true;  // To prevent multiple clicks.\n",
              "      quickchartButtonEl.classList.add('colab-df-spinner');\n",
              "      try {\n",
              "        const charts = await google.colab.kernel.invokeFunction(\n",
              "            'suggestCharts', [key], {});\n",
              "      } catch (error) {\n",
              "        console.error('Error during call to suggestCharts:', error);\n",
              "      }\n",
              "      quickchartButtonEl.classList.remove('colab-df-spinner');\n",
              "      quickchartButtonEl.classList.add('colab-df-quickchart-complete');\n",
              "    }\n",
              "    (() => {\n",
              "      let quickchartButtonEl =\n",
              "        document.querySelector('#df-08c920a5-4012-4660-a177-860df23d08c3 button');\n",
              "      quickchartButtonEl.style.display =\n",
              "        google.colab.kernel.accessAllowed ? 'block' : 'none';\n",
              "    })();\n",
              "  </script>\n",
              "</div>\n",
              "\n",
              "    </div>\n",
              "  </div>\n"
            ],
            "application/vnd.google.colaboratory.intrinsic+json": {
              "type": "dataframe",
              "variable_name": "df",
              "summary": "{\n  \"name\": \"df\",\n  \"rows\": 8128,\n  \"fields\": [\n    {\n      \"column\": \"name\",\n      \"properties\": {\n        \"dtype\": \"category\",\n        \"num_unique_values\": 2058,\n        \"samples\": [\n          \"Volkswagen Ameo 1.5 TDI Trendline\",\n          \"Chevrolet Sail Hatchback LS ABS\",\n          \"Hyundai i20 Asta (o)\"\n        ],\n        \"semantic_type\": \"\",\n        \"description\": \"\"\n      }\n    },\n    {\n      \"column\": \"year\",\n      \"properties\": {\n        \"dtype\": \"number\",\n        \"std\": 4,\n        \"min\": 1983,\n        \"max\": 2020,\n        \"num_unique_values\": 29,\n        \"samples\": [\n          1997,\n          2019,\n          2002\n        ],\n        \"semantic_type\": \"\",\n        \"description\": \"\"\n      }\n    },\n    {\n      \"column\": \"selling_price\",\n      \"properties\": {\n        \"dtype\": \"number\",\n        \"std\": 806253,\n        \"min\": 29999,\n        \"max\": 10000000,\n        \"num_unique_values\": 677,\n        \"samples\": [\n          944999,\n          665000,\n          484999\n        ],\n        \"semantic_type\": \"\",\n        \"description\": \"\"\n      }\n    },\n    {\n      \"column\": \"km_driven\",\n      \"properties\": {\n        \"dtype\": \"number\",\n        \"std\": 56550,\n        \"min\": 1,\n        \"max\": 2360457,\n        \"num_unique_values\": 921,\n        \"samples\": [\n          6757,\n          26766,\n          15858\n        ],\n        \"semantic_type\": \"\",\n        \"description\": \"\"\n      }\n    },\n    {\n      \"column\": \"fuel\",\n      \"properties\": {\n        \"dtype\": \"category\",\n        \"num_unique_values\": 4,\n        \"samples\": [\n          \"Petrol\",\n          \"CNG\",\n          \"Diesel\"\n        ],\n        \"semantic_type\": \"\",\n        \"description\": \"\"\n      }\n    },\n    {\n      \"column\": \"seller_type\",\n      \"properties\": {\n        \"dtype\": \"category\",\n        \"num_unique_values\": 3,\n        \"samples\": [\n          \"Individual\",\n          \"Dealer\",\n          \"Trustmark Dealer\"\n        ],\n        \"semantic_type\": \"\",\n        \"description\": \"\"\n      }\n    },\n    {\n      \"column\": \"transmission\",\n      \"properties\": {\n        \"dtype\": \"category\",\n        \"num_unique_values\": 2,\n        \"samples\": [\n          \"Automatic\",\n          \"Manual\"\n        ],\n        \"semantic_type\": \"\",\n        \"description\": \"\"\n      }\n    },\n    {\n      \"column\": \"owner\",\n      \"properties\": {\n        \"dtype\": \"category\",\n        \"num_unique_values\": 5,\n        \"samples\": [\n          \"Second Owner\",\n          \"Test Drive Car\"\n        ],\n        \"semantic_type\": \"\",\n        \"description\": \"\"\n      }\n    },\n    {\n      \"column\": \"mileage\",\n      \"properties\": {\n        \"dtype\": \"category\",\n        \"num_unique_values\": 393,\n        \"samples\": [\n          \"15.1 kmpl\",\n          \"17.67 kmpl\"\n        ],\n        \"semantic_type\": \"\",\n        \"description\": \"\"\n      }\n    },\n    {\n      \"column\": \"engine\",\n      \"properties\": {\n        \"dtype\": \"category\",\n        \"num_unique_values\": 121,\n        \"samples\": [\n          \"2497 CC\",\n          \"2362 CC\"\n        ],\n        \"semantic_type\": \"\",\n        \"description\": \"\"\n      }\n    },\n    {\n      \"column\": \"max_power\",\n      \"properties\": {\n        \"dtype\": \"category\",\n        \"num_unique_values\": 322,\n        \"samples\": [\n          \"95 bhp\",\n          \"79.4 bhp\"\n        ],\n        \"semantic_type\": \"\",\n        \"description\": \"\"\n      }\n    },\n    {\n      \"column\": \"torque\",\n      \"properties\": {\n        \"dtype\": \"category\",\n        \"num_unique_values\": 441,\n        \"samples\": [\n          \"500Nm@ 1600-1800rpm\",\n          \"436.4Nm@ 1800-2500rpm\"\n        ],\n        \"semantic_type\": \"\",\n        \"description\": \"\"\n      }\n    },\n    {\n      \"column\": \"seats\",\n      \"properties\": {\n        \"dtype\": \"number\",\n        \"std\": 0.9595875202339895,\n        \"min\": 2.0,\n        \"max\": 14.0,\n        \"num_unique_values\": 9,\n        \"samples\": [\n          14.0,\n          4.0\n        ],\n        \"semantic_type\": \"\",\n        \"description\": \"\"\n      }\n    }\n  ]\n}"
            }
          },
          "metadata": {},
          "execution_count": 3
        }
      ]
    },
    {
      "cell_type": "code",
      "source": [
        "df = df.drop(columns = ['torque'],axis = 1)"
      ],
      "metadata": {
        "id": "KGc-oeqbVmrd"
      },
      "execution_count": null,
      "outputs": []
    },
    {
      "cell_type": "code",
      "source": [
        "df = df.dropna()"
      ],
      "metadata": {
        "id": "-d4wtIn4V-up"
      },
      "execution_count": null,
      "outputs": []
    },
    {
      "cell_type": "code",
      "source": [
        "df = df.drop_duplicates()\n",
        "df.shape"
      ],
      "metadata": {
        "colab": {
          "base_uri": "https://localhost:8080/"
        },
        "id": "xnKqYQjMWz5R",
        "outputId": "54b32122-0ba7-4712-dd61-51545c7df85d"
      },
      "execution_count": null,
      "outputs": [
        {
          "output_type": "execute_result",
          "data": {
            "text/plain": [
              "(6718, 12)"
            ]
          },
          "metadata": {},
          "execution_count": 6
        }
      ]
    },
    {
      "cell_type": "code",
      "source": [
        "df.info()"
      ],
      "metadata": {
        "colab": {
          "base_uri": "https://localhost:8080/"
        },
        "id": "b_0fNH8oXArt",
        "outputId": "dca3db3e-a93c-420e-f84a-6b5beeff7800"
      },
      "execution_count": null,
      "outputs": [
        {
          "output_type": "stream",
          "name": "stdout",
          "text": [
            "<class 'pandas.core.frame.DataFrame'>\n",
            "Index: 6718 entries, 0 to 8125\n",
            "Data columns (total 12 columns):\n",
            " #   Column         Non-Null Count  Dtype  \n",
            "---  ------         --------------  -----  \n",
            " 0   name           6718 non-null   object \n",
            " 1   year           6718 non-null   int64  \n",
            " 2   selling_price  6718 non-null   int64  \n",
            " 3   km_driven      6718 non-null   int64  \n",
            " 4   fuel           6718 non-null   object \n",
            " 5   seller_type    6718 non-null   object \n",
            " 6   transmission   6718 non-null   object \n",
            " 7   owner          6718 non-null   object \n",
            " 8   mileage        6718 non-null   object \n",
            " 9   engine         6718 non-null   object \n",
            " 10  max_power      6718 non-null   object \n",
            " 11  seats          6718 non-null   float64\n",
            "dtypes: float64(1), int64(3), object(8)\n",
            "memory usage: 682.3+ KB\n"
          ]
        }
      ]
    },
    {
      "cell_type": "code",
      "source": [
        "for i in df.columns:\n",
        "  print(\"unique in col \"+ i + \" \" + str(df[i].unique().size))\n",
        "  print(df[i].unique())\n",
        "  print(\"==========================================\")\n"
      ],
      "metadata": {
        "colab": {
          "base_uri": "https://localhost:8080/"
        },
        "id": "8SkzOm0DX5br",
        "outputId": "69f4371d-0851-4139-cc48-f88a65a7db53"
      },
      "execution_count": null,
      "outputs": [
        {
          "output_type": "stream",
          "name": "stdout",
          "text": [
            "unique in col name 1983\n",
            "['Maruti Swift Dzire VDI' 'Skoda Rapid 1.5 TDI Ambition'\n",
            " 'Honda City 2017-2020 EXi' ... 'Tata Nexon 1.5 Revotorq XT'\n",
            " 'Ford Freestyle Titanium Plus Diesel BSIV'\n",
            " 'Toyota Innova 2.5 GX (Diesel) 8 Seater BS IV']\n",
            "==========================================\n",
            "unique in col year 27\n",
            "[2014 2006 2010 2007 2017 2001 2011 2013 2005 2009 2016 2012 2002 2015\n",
            " 2018 2019 2008 2020 1999 2000 2003 2004 1994 1998 1997 1995 1996]\n",
            "==========================================\n",
            "unique in col selling_price 670\n",
            "[  450000   370000   158000   225000   130000   440000    96000    45000\n",
            "   350000   200000   500000    92000   280000   180000   400000   778000\n",
            "   150000   680000   174000   950000   525000   600000   575000   275000\n",
            "   300000   220000   254999   670000   730000   650000   330000   366000\n",
            "  1149000   425000  2100000   925000   675000   819999   390000  1500000\n",
            "   700000  1450000  1090000   850000  1650000  1750000  1590000  1689999\n",
            "  1425000   265000   190000   630000   540000   448000   745000  1025000\n",
            "   235000  1700000  1200000   610000  2500000   484999   315000   290000\n",
            "   455000   351000   535000   175000   565000   120000   725000   185000\n",
            "   615000   270000   625000   866000   375000   522000   451999   475000\n",
            "   780000   595000  1140000   360000   105000   135000   690000  3975000\n",
            "  5150000  3200000  4100000  4500000  6000000  3790000  5800000  1864999\n",
            "  2700000   795000  3400000  2650000  5850000   975000   805000  2625000\n",
            "   811000   550000   645000  2550000   599000   875000   894999   340000\n",
            "  1525000  2150000  1900000  2900000 10000000   160000   515000    40000\n",
            "   480000   487000   386000   100000   490000   345000    85000   215000\n",
            "   320000   459999    65000   720000   800000   520000   580000   420000\n",
            "  1250000   830000   335000   329000   775000   524000   245000   910000\n",
            "   900000   250000  1100000   640000   409999   165000    80000  1000000\n",
            "   110000   170000  1380000  1300000   530000   310000  1150000   380000\n",
            "   404000   114999   465000   210000  4600000   509999    90000   409000\n",
            "   395000    81000   555000   229999  1210000   325000    60000    89000\n",
            "   434999  3000000   570000  1550000    64000   140000   503000  3800000\n",
            "  2000000   740000   750000  5400000  5500000   779000  2475000   240000\n",
            "  1085000    95000  1290000   219000   260000   840000   292000   385000\n",
            "  1050000   735000   560000   585000   760000   430000   643000   285000\n",
            "   660000   268000    88000   561000   755000   125000  1600000   801000\n",
            "   317000   495000   236000  1800000   415000   217000   466000   605000\n",
            "  1350000   337000   655000   196000   299000   634000  1225000   238000\n",
            "   590000   195000   715000   168000   531000  1625000   145000   441000\n",
            "    67500   321000   298000  1075000   681000   810000   573000   101000\n",
            "  1019999   244000  1165000   241000   327000   620000   204999   576000\n",
            "   695000   231000   261000   371000   421000   710000  1040000   199000\n",
            "   305000  1745000   611000    75000    55000  1325000   885000   108000\n",
            "   272000  1125000   388000   757000   626000   793000  3750000  1400000\n",
            "  1925000   844999  2940000  1825000   890000   770000   467000   711000\n",
            "   511000   166000   392000   833000    35000   880000  1030000   521000\n",
            "   451000   472000   649000   429000  1576000   825000   470000  1560000\n",
            "  1950000   786000   731000   191000   651000   445000    93150   403000\n",
            "   144000    52000   302000   869999   155000   246000   405000    70000\n",
            "  3250000  1143000   635000  1575000   318000   152000   248000  1465000\n",
            "  1080000   678000  1460000   756000   665000  2950000   377000  1675000\n",
            "   169000   685000   749000   899000   259000   416000   773000   889000\n",
            "   118000   256000  1888000    99000  2280000    31504   295000   444000\n",
            "   860000  2450000   198000  2825000  2125000  3350000   365000   919999\n",
            "  2600000   839000  1594000   161000   423000   551000    50000   411000\n",
            "  1530000   376000  1850000    86000   822000    30000   252000   131000\n",
            "   128000   790000   604000  1175000   141000   151000   577000    83000\n",
            "   946000   356000   955000   978999   348000   399000   362000   499000\n",
            "   358000   278000   426000   211000  1270000   426999   960000  1031000\n",
            "    72000   479000   764000  2199000  3600000   184000   119000   267000\n",
            "   328000   112999    39000  2850000  2800000  3900000   221000   631000\n",
            "   308000   940000   361000   355000  7200000   930000  1670000   980000\n",
            "   486000   242000   654000   835000   408000    94500  1110000   438999\n",
            "   911999   693000   449000  1390000   698000   539000   765000   562000\n",
            "   571000   589000   227999  1151000  1295000  4090000   347000   493000\n",
            "   545000  1475000   287000  1630000   501000   181000  2711000  1035000\n",
            "   316000   813000  1190000   378000   156000   194000   754000    55599\n",
            "  1511000    78000   250999   312000    66000   369000   149000   752000\n",
            "   142000   111000   206000   567000   699000   632000   905000  1145000\n",
            "    58000   179000  1515000   178000   222000   387000  1405000   282000\n",
            "   458000   157000   497000  1227000   574000   121000  3100000    68000\n",
            "  1920000   808000   512000   671000   799000  1365000  1490000    80500\n",
            "   189000   892000    93000  1680000   667000   204000    42000   694000\n",
            "   861999   476999  5200000  2375000  2750000  1385000   785000  1275000\n",
            "  1748999   132000    33351  2064000   469000   906000   797000  6223000\n",
            "  5923000  6523000   122000   891000   346000   532000   974000   483000\n",
            "   138000   432000  1757000   412000   126000   736000   579000   187000\n",
            "  4000000  1898999   482000   401000   737000   291000   999000   957000\n",
            "   834000   297000   669000   616000   129000   115999   861000  3251000\n",
            "   911000   148000   433000   488000    67000   516000   136000    29999\n",
            "   124000  1938000   172000    59000  3500000   537000   849000   851000\n",
            "   597000   741000   556000   549000   679000   969999  1237000    31000\n",
            "   666000    54000   374000   455999   453000   258000   428000   262000\n",
            "   389000   339000   277000   578000   684000   949000   227000  5830000\n",
            "   721000   751000  2400000   990000  1282000  1147000   558000   722000\n",
            "   563000  2300000  2200000   488999   276000   434000   372000  1520000\n",
            "   202999   541000   254000   528000   102000   311000   977000  1251000\n",
            "  1445000    98000    59259   153000  1051000   591000   319000   454000\n",
            "  1160000  3300000   791000   802999  1789999  1044999   279000   944999\n",
            "  1859000  2175000   430999   803999   934000   357000   965000   341000\n",
            "    75527  1132000   352000   252999   313000   391000  2051000   212000\n",
            "  2575000  1516000   359000   209000  1220000  1180000    45957  1265000\n",
            "   382000   526000    90177    46000   307000   746000]\n",
            "==========================================\n",
            "unique in col km_driven 898\n",
            "[ 145500  120000  140000  127000   45000  175000    5000   90000  169000\n",
            "   68000  100000   40000   70000   53000   80000   50000   72000   35000\n",
            "   28000   25000    2388   16200   10000   15000   42000   60000   76000\n",
            "   28900   86300   23300   32600   10300   77000   99000   27800   49800\n",
            "  151000   54700   64000   63000  127700   33900   59000  110000  147000\n",
            "   30000  135000    9850   78000  170000   49000   32000   38000   44000\n",
            "   12000   55500   61500  150000   37800  114000   48000   69000   13000\n",
            "   76139   65000    1303   31800   20000   17000   21000   37000   29500\n",
            "    7500   19000   41000   39000   22000   47000   72200   49900    9000\n",
            "   11000   95000   18000   46100   16000    9654   24300   42163    8000\n",
            "   71000    9500   36600   14000  120600   86000    7800   31377   75000\n",
            "   93000  125000   13500  162500   92500  158000    2000  181000  193000\n",
            "  122358   95200   33033   63063  207890    7976   16500   99361   33000\n",
            "   80100  160000   26000   29000   58000   36000  185000  162000   67000\n",
            "   52000   68089   58343   38817   56494   79328    5621   25538   69779\n",
            "   56290    8500    7032  106000  240000  214000    1000  265000  134000\n",
            "    2136  250000  130000   99500  119000   44665  123000   34000  146000\n",
            "   85000  201850   46000  190000   43000   14200   19100   54000  101500\n",
            "   55735    1500  181491   53319   40906   31711   43755   66693   59549\n",
            "   94385   73730  221889  116104  150546  148120  142000  126000   24000\n",
            "  101000  168000  165000   98500   98000   77800   51492  136000   91000\n",
            "  167000  180000    6000   91500  132478   51000  105000  137500   88000\n",
            "  156060  107000   57000  300000  200000   18945  144000  107825    1620\n",
            "  141000  108000   55000   37944   90400   96000  193623   63186  219000\n",
            "   23000   94000  140500  143000  195000  360003    8079  114368   79990\n",
            "   81632  155201  101504   90165   86017   85036  125531  206000   49700\n",
            "   74000    6550   56000   41779   31000   13534    7000   28156   63309\n",
            "  155000   11500    3000  157000   27000   26300   89100  104000  210000\n",
            "  216000   84000  161000   72113  113000   96443   51500  104500   49102\n",
            "   81000  227000  117000    8576   19723   21446   52289   52236   54470\n",
            "   25471   33928   59736   54290    2118   61379   58544   74381   63982\n",
            "   56429   19500   56832   30528   65285   20102   52380   74250   57247\n",
            "  178000   42323   42462   54723   42545   20375   43978   40200   27233\n",
            "   28832  103000  142500  115000   35500   17500   92000    4500   83000\n",
            "    6750   18500   50478    9200    2300    4295    5229    4701    6757\n",
            "   28182   11533   11688   57728   23712   70670   43381   79011   58500\n",
            "   43500   12700   49455   46815  334000  100875  118000  128000  144030\n",
            "  176000   89000   97000   12800   65100   15200   82000  116500  145000\n",
            "   73000  113226  160500  132000  217000  139000    3500   62000 1500000\n",
            "  120005   16830   93468   16589   53201   25272   53619    6001  202000\n",
            "   71717   84321  177000  205000   41800   88700  188000  225000    5500\n",
            "    4875    2700   58511   26235   26766    1600   24522   13663   58945\n",
            "  375000  156975   27620  143200  138000  189000  156000   10800   67500\n",
            "  255000   71850  112000  159000   76131   51777   64788   46951   74537\n",
            "   23500   68600   13887   66000   24400   27500   67840  380000  112880\n",
            "   61915  184000    6200   16700    7967    9656   68609   33360   14317\n",
            "   87237   62960   26634  163720   67998   20706  100581   67303   79139\n",
            "   84784  130376   33500   22053   78432  270000    7200  117500   78500\n",
            "  115717    4000   26432   46702   46706   53523   56365   49563   56432\n",
            "   52365   53512   46533   58632   65300   39395  230000   32500   64800\n",
            "  248000   66444  218463  153000   87185  137000    3564   48756   80322\n",
            "  173000  148000    6500  220000  108957   22200  260000   42108   79000\n",
            "   17100   43001  100600   92385  116000   72500   82500   50600  121000\n",
            "  101903   85568    3100  186000   59300   89322   48300   23511   22512\n",
            "   62900   52442   34156   34152   62841   38600   27654   48698   32995\n",
            "   90150   85700   25339   41232   68240   92651   88754   23700   69500\n",
            "   28050   22947    7672   36659   44500    9900  124316    6544   49600\n",
            "  198000  103994   35008   31100   42312   54891   18890   75010    4337\n",
            "   14495   83585   48406   56239   33243   15858   87847   87000  112072\n",
            "   52269   15780 2360457  108800   12500  577414  121941  152186   82246\n",
            "   89580    2789   35278    2860   78562   36088  129000  500000  133000\n",
            "   64500   24500   45500   71500   93500   60300   44391   56315   15151\n",
            "  114321   37333  330000  291000   21500  197000   40300   30030   29029\n",
            "   72072   82082   80600   58609   33003  165500    5800   68700  102996\n",
            "   96500   52412   85472   87452   66530   32331  172000   23456  136500\n",
            "  111000   42500   47200  246000    5200   10500   93331  109000    5400\n",
            "  102000   29700    7600   29340   80800   24265   56900   88200   40800\n",
            "    8588  305000  212000  101200  179150   84487  264000   51146  298000\n",
            "  149000  291977   36800   52200  248200    7720   57882  242000   55380\n",
            "   18816   33019   47747   45900   68697  147279   24700   43526   55885\n",
            "   16034  156040   93415  122000   68519   22966    2350   59872   91182\n",
            "   59500   75500  152500   69123   77524   40523   23600  290000   24177\n",
            "  121779   15381   74800  109322  475000   61000   80500   65755    2600\n",
            "   15500   50700  440000  152000  200400    7300    9750  157138  285000\n",
            "  127991   13120   87500   62200   87540  231438  239451  154000  426000\n",
            "  182000  215000   77300   61260   17601    4773   57900    8600   78010\n",
            "   83844   23999   91400  178500   66953  166000  131000  100750   48676\n",
            "   79500  200185   49025   76460   47370   45217  222300   44600   28080\n",
            "   28800   21900   28100    7673   96272   22500    7400  370000  150360\n",
            "   42130  147500   56194   54188   54043   66657   35582   54327    7949\n",
            "   59734   49185   56389   58245   36422   42535   40736   56246   55403\n",
            "  105358   49200   81500    3177   39414   30078   44588   49907   67082\n",
            "  112879   10200    1300  175802  192000   73840  320000   24857   26442\n",
            "   50800   40142    9400   12584    4300   14548   44772   48500   28782\n",
            "   28451   36500   44885  131111   58400   23400    3010  163000   77088\n",
            "  136511   36710   28180   44077   55768  123278   26500   18484    2560\n",
            "  103655   56975  187000  218000   73257   26320   38426  116700  176062\n",
            "   77500   39500   55896   30400  164000  271000   75262   91863   47552\n",
            "   14700   19700  145241   95500   53473   75958   31596   85710  129627\n",
            "   55130   22522   51856   29434   34500    6825  112011   53534  248119\n",
            "   24019   19600  376412  183000  108916   59865   68140   53190   70100\n",
            "   47725   70195   77395   74321   80235   77150   61100   82300   82050\n",
            "   29899   59235  201000   77215   48228   58559   50856   18300   59292\n",
            "   21147   61173   91567   33400   92686   67600   49500  112048   30646\n",
            "   43011  104300   73500  280000   35700   22700   21871   55425   37659\n",
            "   37500   19800   45629   68850   45775   68203   97343   82507   59400\n",
            "  125876   56800   65204    2286   15732   49523   36521   64481   49060\n",
            "   37161   60175   49957   43235   50699       1   50074   30154   26263\n",
            "   84925   46357   46737  110048  186388   20171   37151   58161   50171\n",
            "   55161    9599   16151   28161   80868  194000  191000]\n",
            "==========================================\n",
            "unique in col fuel 4\n",
            "['Diesel' 'Petrol' 'LPG' 'CNG']\n",
            "==========================================\n",
            "unique in col seller_type 3\n",
            "['Individual' 'Dealer' 'Trustmark Dealer']\n",
            "==========================================\n",
            "unique in col transmission 2\n",
            "['Manual' 'Automatic']\n",
            "==========================================\n",
            "unique in col owner 5\n",
            "['First Owner' 'Second Owner' 'Third Owner' 'Fourth & Above Owner'\n",
            " 'Test Drive Car']\n",
            "==========================================\n",
            "unique in col mileage 393\n",
            "['23.4 kmpl' '21.14 kmpl' '17.7 kmpl' '23.0 kmpl' '16.1 kmpl' '20.14 kmpl'\n",
            " '17.3 km/kg' '23.59 kmpl' '20.0 kmpl' '19.01 kmpl' '17.3 kmpl'\n",
            " '19.3 kmpl' '18.9 kmpl' '18.15 kmpl' '24.52 kmpl' '19.7 kmpl'\n",
            " '22.54 kmpl' '21.0 kmpl' '25.5 kmpl' '26.59 kmpl' '21.5 kmpl' '20.3 kmpl'\n",
            " '21.4 kmpl' '24.7 kmpl' '18.2 kmpl' '16.8 kmpl' '24.3 kmpl' '14.0 kmpl'\n",
            " '18.6 kmpl' '33.44 km/kg' '23.95 kmpl' '17.0 kmpl' '20.63 kmpl'\n",
            " '13.93 kmpl' '16.0 kmpl' '17.8 kmpl' '18.5 kmpl' '12.55 kmpl'\n",
            " '12.99 kmpl' '14.8 kmpl' '13.5 kmpl' '26.0 kmpl' '20.65 kmpl' '27.3 kmpl'\n",
            " '11.36 kmpl' '17.68 kmpl' '14.28 kmpl' '18.53 kmpl' '14.84 kmpl'\n",
            " '21.12 kmpl' '20.36 kmpl' '21.27 kmpl' '18.16 kmpl' '22.0 kmpl'\n",
            " '25.1 kmpl' '20.51 kmpl' '21.66 kmpl' '25.2 kmpl' '22.9 kmpl'\n",
            " '16.02 kmpl' '20.54 kmpl' '22.77 kmpl' '15.71 kmpl' '23.1 kmpl'\n",
            " '19.02 kmpl' '19.81 kmpl' '26.2 km/kg' '16.47 kmpl' '15.04 kmpl'\n",
            " '19.1 kmpl' '21.79 kmpl' '18.8 kmpl' '21.21 kmpl' '15.37 kmpl'\n",
            " '11.79 kmpl' '19.0 kmpl' '14.3 kmpl' '15.8 kmpl' '15.1 kmpl' '19.09 kmpl'\n",
            " '22.32 kmpl' '21.9 kmpl' '14.53 kmpl' '21.63 kmpl' '20.85 kmpl'\n",
            " '20.45 kmpl' '19.67 kmpl' '23.01 kmpl' '20.77 kmpl' '17.92 kmpl'\n",
            " '17.01 kmpl' '22.37 kmpl' '19.33 kmpl' '9.5 kmpl' '12.83 kmpl'\n",
            " '22.48 kmpl' '16.78 kmpl' '14.67 kmpl' '15.0 kmpl' '13.96 kmpl'\n",
            " '18.0 kmpl' '12.07 kmpl' '26.21 kmpl' '10.8 kmpl' '16.3 kmpl' '13.6 kmpl'\n",
            " '14.74 kmpl' '15.6 kmpl' '19.56 kmpl' '22.69 kmpl' '19.16 kmpl'\n",
            " '18.12 kmpl' '12.1 kmpl' '17.5 kmpl' '42.0 kmpl' '20.4 kmpl' '21.1 kmpl'\n",
            " '19.44 kmpl' '13.0 kmpl' '21.43 kmpl' '22.95 kmpl' '16.2 kmpl'\n",
            " '15.3 kmpl' '28.09 kmpl' '17.4 kmpl' '19.4 kmpl' '26.6 km/kg' '17.6 kmpl'\n",
            " '28.4 kmpl' '14.1 kmpl' '25.17 kmpl' '22.74 kmpl' '17.57 kmpl'\n",
            " '16.95 kmpl' '19.49 kmpl' '17.21 kmpl' '13.2 kmpl' '14.2 kmpl'\n",
            " '26.8 kmpl' '25.4 kmpl' '11.5 kmpl' '27.28 kmpl' '17.97 kmpl' '12.8 kmpl'\n",
            " '16.55 kmpl' '12.05 kmpl' '14.07 kmpl' '21.02 kmpl' '11.57 kmpl'\n",
            " '17.9 kmpl' '15.96 kmpl' '17.1 kmpl' '17.19 kmpl' '21.01 kmpl'\n",
            " '24.0 kmpl' '25.6 kmpl' '21.38 kmpl' '23.84 kmpl' '23.08 kmpl'\n",
            " '14.24 kmpl' '20.71 kmpl' '15.64 kmpl' '14.5 kmpl' '16.34 kmpl'\n",
            " '27.39 kmpl' '11.1 kmpl' '13.9 kmpl' '20.88 km/kg' '20.92 kmpl'\n",
            " '23.8 kmpl' '24.4 kmpl' '15.29 kmpl' '21.19 kmpl' '22.5 kmpl' '19.6 kmpl'\n",
            " '23.65 kmpl' '25.32 kmpl' '23.5 kmpl' '16.6 kmpl' '23.9 kmpl' '20.8 kmpl'\n",
            " '27.62 kmpl' '12.9 kmpl' '25.44 kmpl' '17.88 kmpl' '22.7 kmpl'\n",
            " '17.2 kmpl' '15.42 kmpl' '19.68 kmpl' '18.7 kmpl' '15.4 kmpl'\n",
            " '19.34 kmpl' '22.71 kmpl' '25.8 kmpl' '13.7 kmpl' '12.2 kmpl'\n",
            " '18.49 kmpl' '9.0 kmpl' '0.0 kmpl' '13.58 kmpl' '10.1 kmpl' '20.5 kmpl'\n",
            " '25.0 kmpl' '10.5 kmpl' '22.07 kmpl' '22.3 kmpl' '15.26 kmpl'\n",
            " '20.62 kmpl' '27.4 kmpl' '23.2 kmpl' '14.4 kmpl' '18.4 kmpl'\n",
            " '30.46 km/kg' '14.02 kmpl' '11.0 kmpl' '20.6 kmpl' '22.05 kmpl'\n",
            " '20.2 kmpl' '18.1 kmpl' '22.1 kmpl' '19.87 kmpl' '13.01 kmpl'\n",
            " '18.06 kmpl' '26.1 kmpl' '16.52 kmpl' '13.55 kmpl' '24.2 kmpl'\n",
            " '25.83 kmpl' '11.2 kmpl' '17.09 kmpl' '21.03 kmpl' '17.45 kmpl'\n",
            " '21.64 kmpl' '21.94 km/kg' '13.87 kmpl' '19.98 kmpl' '20.52 kmpl'\n",
            " '23.57 kmpl' '11.7 kmpl' '17.43 kmpl' '18.88 kmpl' '13.68 kmpl'\n",
            " '11.18 kmpl' '20.89 kmpl' '11.8 kmpl' '19.62 kmpl' '21.7 kmpl'\n",
            " '14.9 kmpl' '19.5 kmpl' '10.91 kmpl' '15.7 kmpl' '20.73 kmpl'\n",
            " '15.85 kmpl' '20.7 kmpl' '14.23 kmpl' '16.5 kmpl' '17.36 kmpl'\n",
            " '12.6 kmpl' '16.36 kmpl' '14.95 kmpl' '16.9 kmpl' '19.2 kmpl'\n",
            " '16.96 kmpl' '22.15 kmpl' '18.78 kmpl' '19.61 kmpl' '17.71 kmpl'\n",
            " '18.3 kmpl' '19.12 kmpl' '19.72 kmpl' '12.0 kmpl' '11.4 kmpl'\n",
            " '23.03 kmpl' '11.07 kmpl' '15.9 kmpl' '17.67 kmpl' '20.46 kmpl'\n",
            " '13.1 kmpl' '13.45 km/kg' '24.8 kmpl' '15.73 kmpl' '15.11 kmpl'\n",
            " '12.7 kmpl' '21.2 kmpl' '20.38 kmpl' '21.56 kmpl' '13.22 kmpl'\n",
            " '14.49 kmpl' '15.05 kmpl' '23.26 kmpl' '15.41 kmpl' '13.8 kmpl'\n",
            " '22.27 kmpl' '32.52 km/kg' '14.66 kmpl' '12.12 kmpl' '16.84 kmpl'\n",
            " '14.09 kmpl' '14.7 kmpl' '13.4 kmpl' '15.5 kmpl' '13.49 kmpl'\n",
            " '11.88 km/kg' '14.6 kmpl' '10.75 kmpl' '24.5 kmpl' '11.74 kmpl'\n",
            " '16.07 kmpl' '15.63 kmpl' '26.3 km/kg' '23.7 km/kg' '25.47 kmpl'\n",
            " '17.05 kmpl' '23.3 kmpl' '11.9 kmpl' '13.38 kmpl' '20.86 kmpl'\n",
            " '19.2 km/kg' '10.9 kmpl' '18.25 kmpl' '15.2 kmpl' '20.37 kmpl'\n",
            " '17.8 km/kg' '21.8 kmpl' '11.96 kmpl' '24.04 kmpl' '19.69 kmpl'\n",
            " '13.73 kmpl' '21.04 kmpl' '25.01 kmpl' '10.93 kmpl' '10.9 km/kg'\n",
            " '24.29 kmpl' '13.44 kmpl' '20.07 kmpl' '21.1 km/kg' '19.08 kmpl'\n",
            " '20.34 kmpl' '11.68 kmpl' '12.5 kmpl' '12.3 kmpl' '23.87 kmpl'\n",
            " '16.38 kmpl' '17.42 kmpl' '10.0 kmpl' '18.24 kmpl' '10.71 kmpl'\n",
            " '19.59 kmpl' '16.7 kmpl' '19.83 kmpl' '21.76 kmpl' '16.05 kmpl'\n",
            " '20.28 kmpl' '16.25 kmpl' '16.73 kmpl' '18.48 kmpl' '13.2 km/kg'\n",
            " '21.4 km/kg' '14.99 kmpl' '18.76 kmpl' '16.4 kmpl' '19.64 kmpl'\n",
            " '14.94 kmpl' '16.6 km/kg' '16.0 km/kg' '17.11 kmpl' '22.8 km/kg'\n",
            " '32.26 km/kg' '33.0 km/kg' '12.4 kmpl' '18.44 kmpl' '16.09 kmpl'\n",
            " '19.0 km/kg' '12.62 kmpl' '21.13 kmpl' '15.17 kmpl' '21.73 kmpl'\n",
            " '21.72 kmpl' '12.85 kmpl' '14.81 kmpl' '13.24 kmpl' '14.4 km/kg'\n",
            " '21.49 kmpl' '14.62 kmpl' '26.83 km/kg' '11.45 kmpl' '12.08 kmpl'\n",
            " '15.74 kmpl' '11.3 kmpl' '15.1 km/kg' '14.21 kmpl' '11.72 kmpl'\n",
            " '16.51 kmpl']\n",
            "==========================================\n",
            "unique in col engine 121\n",
            "['1248 CC' '1498 CC' '1497 CC' '1396 CC' '1298 CC' '1197 CC' '1061 CC'\n",
            " '796 CC' '1364 CC' '1399 CC' '1461 CC' '993 CC' '1198 CC' '1199 CC'\n",
            " '998 CC' '1591 CC' '2179 CC' '1368 CC' '2982 CC' '2494 CC' '2143 CC'\n",
            " '2477 CC' '1462 CC' '2755 CC' '1968 CC' '1798 CC' '1196 CC' '1373 CC'\n",
            " '1598 CC' '1998 CC' '1086 CC' '1194 CC' '1172 CC' '1405 CC' '1582 CC'\n",
            " '999 CC' '2487 CC' '1999 CC' '3604 CC' '2987 CC' '1995 CC' '1451 CC'\n",
            " '1969 CC' '2967 CC' '2497 CC' '1797 CC' '1991 CC' '2362 CC' '1493 CC'\n",
            " '1599 CC' '1341 CC' '1794 CC' '799 CC' '1193 CC' '2696 CC' '1495 CC'\n",
            " '1186 CC' '1047 CC' '2498 CC' '2956 CC' '2523 CC' '1120 CC' '624 CC'\n",
            " '1496 CC' '1984 CC' '2354 CC' '814 CC' '793 CC' '1799 CC' '936 CC'\n",
            " '1956 CC' '1997 CC' '1499 CC' '1948 CC' '2997 CC' '2489 CC' '2499 CC'\n",
            " '2609 CC' '2953 CC' '1150 CC' '1994 CC' '1388 CC' '1527 CC' '2199 CC'\n",
            " '995 CC' '2993 CC' '1586 CC' '1390 CC' '909 CC' '2393 CC' '3198 CC'\n",
            " '1339 CC' '2835 CC' '2092 CC' '1595 CC' '2496 CC' '1596 CC' '1597 CC'\n",
            " '2596 CC' '2148 CC' '1299 CC' '1590 CC' '2231 CC' '2694 CC' '2200 CC'\n",
            " '1795 CC' '1896 CC' '1796 CC' '1422 CC' '1489 CC' '2359 CC' '2197 CC'\n",
            " '2999 CC' '1781 CC' '2650 CC' '1343 CC' '2446 CC' '3498 CC' '2198 CC'\n",
            " '2776 CC' '1950 CC']\n",
            "==========================================\n",
            "unique in col max_power 321\n",
            "['74 bhp' '103.52 bhp' '78 bhp' '90 bhp' '88.2 bhp' '81.86 bhp' '57.5 bhp'\n",
            " '37 bhp' '67.1 bhp' '68.1 bhp' '108.45 bhp' '60 bhp' '73.9 bhp' '67 bhp'\n",
            " '82 bhp' '88.5 bhp' '46.3 bhp' '88.73 bhp' '64.1 bhp' '98.6 bhp'\n",
            " '88.8 bhp' '83.81 bhp' '83.1 bhp' '47.3 bhp' '73.8 bhp' '34.2 bhp'\n",
            " '35 bhp' '81.83 bhp' '40.3 bhp' '121.3 bhp' '138.03 bhp' '160.77 bhp'\n",
            " '117.3 bhp' '116.3 bhp' '83.14 bhp' '67.05 bhp' '168.5 bhp' '100 bhp'\n",
            " '120.7 bhp' '98.63 bhp' '175.56 bhp' '103.25 bhp' '171.5 bhp' '100.6 bhp'\n",
            " '174.33 bhp' '187.74 bhp' '170 bhp' '78.9 bhp' '88.76 bhp' '86.8 bhp'\n",
            " '108.495 bhp' '108.62 bhp' '93.7 bhp' '103.6 bhp' '98.59 bhp' '189 bhp'\n",
            " '67.04 bhp' '68.05 bhp' '58.2 bhp' '82.85 bhp' '81.80 bhp' '73 bhp'\n",
            " '120 bhp' '94.68 bhp' '160 bhp' '65 bhp' '155 bhp' '69.01 bhp'\n",
            " '126.32 bhp' '138.1 bhp' '83.8 bhp' '126.2 bhp' '98.96 bhp' '62.1 bhp'\n",
            " '86.7 bhp' '188 bhp' '214.56 bhp' '177 bhp' '280 bhp' '148.31 bhp'\n",
            " '254.79 bhp' '190 bhp' '177.46 bhp' '204 bhp' '141 bhp' '117.6 bhp'\n",
            " '241.4 bhp' '282 bhp' '150 bhp' '147.5 bhp' '108.5 bhp' '103.5 bhp'\n",
            " '183 bhp' '181.04 bhp' '157.7 bhp' '164.7 bhp' '91.1 bhp' '400 bhp'\n",
            " '68 bhp' '75 bhp' '85.8 bhp' '87.2 bhp' '53 bhp' '118 bhp' '103.2 bhp'\n",
            " '83 bhp' '84 bhp' '58.16 bhp' '147.94 bhp' '74.02 bhp' '53.3 bhp'\n",
            " '80 bhp' '88.7 bhp' '97.7 bhp' '121.36 bhp' '162 bhp' '140 bhp' '94 bhp'\n",
            " '100.57 bhp' '82.9 bhp' '83.11 bhp' '70 bhp' '153.86 bhp' '121 bhp'\n",
            " '126.3 bhp' '73.97 bhp' '171 bhp' '69 bhp' '99.6 bhp' '102 bhp' '105 bhp'\n",
            " '63 bhp' '79.4 bhp' '97.9 bhp' '63.1 bhp' '66.1 bhp' '110 bhp'\n",
            " '174.5 bhp' '53.26 bhp' '73.75 bhp' '67.06 bhp' '64.08 bhp' '37.5 bhp'\n",
            " '189.3 bhp' '158.8 bhp' '61.7 bhp' '55.2 bhp' '71.01 bhp' '73.74 bhp'\n",
            " '147.9 bhp' '71 bhp' '77 bhp' '121.4 bhp' '113.4 bhp' '47 bhp' '130 bhp'\n",
            " '57.6 bhp' '138 bhp' '52.8 bhp' '53.64 bhp' '53.5 bhp' '76.8 bhp'\n",
            " '82.4 bhp' '113.42 bhp' '76 bhp' '84.8 bhp' '56.3 bhp' '218 bhp'\n",
            " '112 bhp' '92 bhp' '105.5 bhp' '169 bhp' '95 bhp' '72.4 bhp' '115 bhp'\n",
            " '152 bhp' '91.2 bhp' '156 bhp' '74.9 bhp' '62 bhp' '105.3 bhp'\n",
            " '73.94 bhp' '85.80 bhp' '85 bhp' '118.3 bhp' '72 bhp' '147.51 bhp'\n",
            " '58 bhp' '64 bhp' '126.24 bhp' '76.9 bhp' '194.3 bhp' '99.23 bhp'\n",
            " '89.84 bhp' '123.7 bhp' '118.35 bhp' '99 bhp' '241 bhp' '136 bhp'\n",
            " '261.4 bhp' '104.68 bhp' '37.48 bhp' '104 bhp' '88.50 bhp' '63.12 bhp'\n",
            " '91.7 bhp' '102.5 bhp' '177.6 bhp' '45 bhp' '123.37 bhp' '147.8 bhp'\n",
            " '184 bhp' '84.48 bhp' '68.07 bhp' '74.96 bhp' '167.6 bhp' '152.87 bhp'\n",
            " '112.2 bhp' '83.83 bhp' '197 bhp' '110.4 bhp' '104.55 bhp' '103 bhp'\n",
            " '103.3 bhp' '66 bhp' '108.6 bhp' '165 bhp' '163.7 bhp' '116.9 bhp'\n",
            " '94.93 bhp' '127 bhp' '198.5 bhp' '179.5 bhp' '120.69 bhp' '121.31 bhp'\n",
            " '138.08 bhp' '187.7 bhp' '80.8 bhp' '86.79 bhp' '93.87 bhp' '116.6 bhp'\n",
            " '143 bhp' '92.7 bhp' '88 bhp' '58.33 bhp' '78.8 bhp' '64.4 bhp' '125 bhp'\n",
            " '139.01 bhp' '254.8 bhp' '181 bhp' '258 bhp' '55.23 bhp' '270.9 bhp'\n",
            " '265 bhp' '157.75 bhp' '101 bhp' '186 bhp' '187.4 bhp' '224 bhp'\n",
            " '64.9 bhp' '148 bhp' '35.5 bhp' '89.75 bhp' '32.8 bhp' '91.72 bhp'\n",
            " '106 bhp' '98.97 bhp' '66.6 bhp' '86 bhp' '65.3 bhp' '98.82 bhp'\n",
            " '198.25 bhp' '38 bhp' '142 bhp' '132 bhp' '174.57 bhp' '178 bhp'\n",
            " '163.2 bhp' '203.2 bhp' '177.5 bhp' '175 bhp' '57 bhp' '80.84 bhp'\n",
            " '68.4 bhp' '167.67 bhp' '170.63 bhp' '52 bhp' '149.5 bhp' '48.21 bhp'\n",
            " ' bhp' '201.1 bhp' '100.5 bhp' '144 bhp' '194.4 bhp' '168.7 bhp'\n",
            " '104.5 bhp' '103.26 bhp' '116.4 bhp' '98.79 bhp' '80.9 bhp' '58.3 bhp'\n",
            " '272 bhp' '235 bhp' '167.62 bhp' '170.30 bhp' '139.46 bhp' '158 bhp'\n",
            " '110.5 bhp' '82.5 bhp' '141.1 bhp' '38.4 bhp' '197.2 bhp' '161 bhp'\n",
            " '194 bhp' '122.4 bhp' '134.10 bhp' '60.2 bhp' '134 bhp' '203 bhp'\n",
            " '135.1 bhp']\n",
            "==========================================\n",
            "unique in col seats 9\n",
            "[ 5.  4.  7.  8.  6.  9. 10. 14.  2.]\n",
            "==========================================\n"
          ]
        }
      ]
    },
    {
      "cell_type": "code",
      "source": [
        "def get_brand_name(car_name):\n",
        "  ans = car_name.split(' ')[0].strip()\n",
        "  return ans\n",
        "\n",
        "def clean_data(value):\n",
        "    value = value.split(' ')[0]\n",
        "    value = value.strip()\n",
        "    if value == '':\n",
        "        value = 0\n",
        "    return float(value)"
      ],
      "metadata": {
        "id": "tXsssDqBzfi9"
      },
      "execution_count": null,
      "outputs": []
    },
    {
      "cell_type": "code",
      "source": [
        "print(get_brand_name('Maruti Swift Dzire VDI'))\n",
        "print(clean_data('23.4 kmlp'))"
      ],
      "metadata": {
        "colab": {
          "base_uri": "https://localhost:8080/"
        },
        "id": "dz1ozVUFz3Pn",
        "outputId": "b4ac9ce6-a98d-41b6-b629-936030a73bdf"
      },
      "execution_count": null,
      "outputs": [
        {
          "output_type": "stream",
          "name": "stdout",
          "text": [
            "Maruti\n",
            "23.4\n"
          ]
        }
      ]
    },
    {
      "cell_type": "code",
      "source": [
        "df['name'] = df['name'].apply(get_brand_name)\n",
        "df['mileage']= df['mileage'].apply(clean_data)\n",
        "df['engine']= df['engine'].apply(clean_data)\n",
        "df['max_power']= df['max_power'].apply(clean_data)\n",
        "\n",
        "print(df['name'])\n",
        "print(df['mileage'])\n",
        "print(df['engine'])\n",
        "print(df['max_power'])\n"
      ],
      "metadata": {
        "colab": {
          "base_uri": "https://localhost:8080/"
        },
        "id": "3kblsbWw0BPD",
        "outputId": "69a2e458-0476-423e-a4c0-08d6714812e9"
      },
      "execution_count": null,
      "outputs": [
        {
          "output_type": "stream",
          "name": "stdout",
          "text": [
            "0        Maruti\n",
            "1         Skoda\n",
            "2         Honda\n",
            "3       Hyundai\n",
            "4        Maruti\n",
            "         ...   \n",
            "8121     Maruti\n",
            "8122    Hyundai\n",
            "8123    Hyundai\n",
            "8124    Hyundai\n",
            "8125     Maruti\n",
            "Name: name, Length: 6718, dtype: object\n",
            "0       23.40\n",
            "1       21.14\n",
            "2       17.70\n",
            "3       23.00\n",
            "4       16.10\n",
            "        ...  \n",
            "8121    18.90\n",
            "8122    22.54\n",
            "8123    18.50\n",
            "8124    16.80\n",
            "8125    19.30\n",
            "Name: mileage, Length: 6718, dtype: float64\n",
            "0       1248.0\n",
            "1       1498.0\n",
            "2       1497.0\n",
            "3       1396.0\n",
            "4       1298.0\n",
            "         ...  \n",
            "8121     998.0\n",
            "8122    1396.0\n",
            "8123    1197.0\n",
            "8124    1493.0\n",
            "8125    1248.0\n",
            "Name: engine, Length: 6718, dtype: float64\n",
            "0        74.00\n",
            "1       103.52\n",
            "2        78.00\n",
            "3        90.00\n",
            "4        88.20\n",
            "         ...  \n",
            "8121     67.10\n",
            "8122     88.73\n",
            "8123     82.85\n",
            "8124    110.00\n",
            "8125     73.90\n",
            "Name: max_power, Length: 6718, dtype: float64\n"
          ]
        }
      ]
    },
    {
      "cell_type": "code",
      "source": [
        "from sklearn.preprocessing import LabelEncoder\n",
        " #4   fuel           6718 non-null   object\n",
        " #5   seller_type    6718 non-null   object\n",
        "  #  transmission   6718 non-null   object\n",
        " #7   owner          6718 non-null   object\n",
        "label_encoder = LabelEncoder()\n",
        "df['name'] = label_encoder.fit_transform(df['name'])\n",
        "print(df['name'].unique())\n"
      ],
      "metadata": {
        "colab": {
          "base_uri": "https://localhost:8080/"
        },
        "id": "cyUdqLoVYnIu",
        "outputId": "de995c34-827d-4dad-dfff-97cbf0201ed1"
      },
      "execution_count": null,
      "outputs": [
        {
          "output_type": "stream",
          "name": "stdout",
          "text": [
            "[20 26 10 11 28  9 25 19 27  4  6 14 21 22  2 29  3 23 17 13 16 18 30  5\n",
            " 15  7  8  0  1 12 24]\n"
          ]
        }
      ]
    },
    {
      "cell_type": "code",
      "source": [
        "# Perform one-hot encoding\n",
        "df = pd.get_dummies(df, columns=['owner'], prefix='owner')\n",
        "\n"
      ],
      "metadata": {
        "id": "v7h-SZ8IbFny"
      },
      "execution_count": null,
      "outputs": []
    },
    {
      "cell_type": "code",
      "source": [
        "df = pd.get_dummies(df, columns=['transmission'], prefix='transmission')\n"
      ],
      "metadata": {
        "id": "3IIXfPt4bRoE"
      },
      "execution_count": null,
      "outputs": []
    },
    {
      "cell_type": "code",
      "source": [
        "df = pd.get_dummies(df, columns=['seller_type'], prefix='seller_type')\n",
        "df = pd.get_dummies(df, columns=['fuel'], prefix='fuel')\n"
      ],
      "metadata": {
        "id": "OCv4o9tcbYhq"
      },
      "execution_count": null,
      "outputs": []
    },
    {
      "cell_type": "code",
      "source": [
        "Y = df.selling_price\n",
        "X = df.drop(columns='selling_price',axis =1).values"
      ],
      "metadata": {
        "id": "q9RSt1Ytbkc5"
      },
      "execution_count": null,
      "outputs": []
    },
    {
      "cell_type": "code",
      "source": [
        "from sklearn.model_selection import train_test_split\n",
        "X_train,X_test,Y_train,Y_test = train_test_split(X,Y,test_size =0.2,random_state=42)"
      ],
      "metadata": {
        "id": "PU_o--UOchKy"
      },
      "execution_count": null,
      "outputs": []
    },
    {
      "cell_type": "code",
      "source": [
        "from sklearn.linear_model import LinearRegression\n",
        "md = LinearRegression()"
      ],
      "metadata": {
        "id": "8HFfwXt-dE20"
      },
      "execution_count": null,
      "outputs": []
    },
    {
      "cell_type": "code",
      "source": [
        "md.fit(X_train,Y_train)"
      ],
      "metadata": {
        "colab": {
          "base_uri": "https://localhost:8080/",
          "height": 75
        },
        "id": "5j_uItXedUQ-",
        "outputId": "b93abc80-c159-4818-8090-c795b7a08ec9"
      },
      "execution_count": null,
      "outputs": [
        {
          "output_type": "execute_result",
          "data": {
            "text/plain": [
              "LinearRegression()"
            ],
            "text/html": [
              "<style>#sk-container-id-5 {color: black;background-color: white;}#sk-container-id-5 pre{padding: 0;}#sk-container-id-5 div.sk-toggleable {background-color: white;}#sk-container-id-5 label.sk-toggleable__label {cursor: pointer;display: block;width: 100%;margin-bottom: 0;padding: 0.3em;box-sizing: border-box;text-align: center;}#sk-container-id-5 label.sk-toggleable__label-arrow:before {content: \"▸\";float: left;margin-right: 0.25em;color: #696969;}#sk-container-id-5 label.sk-toggleable__label-arrow:hover:before {color: black;}#sk-container-id-5 div.sk-estimator:hover label.sk-toggleable__label-arrow:before {color: black;}#sk-container-id-5 div.sk-toggleable__content {max-height: 0;max-width: 0;overflow: hidden;text-align: left;background-color: #f0f8ff;}#sk-container-id-5 div.sk-toggleable__content pre {margin: 0.2em;color: black;border-radius: 0.25em;background-color: #f0f8ff;}#sk-container-id-5 input.sk-toggleable__control:checked~div.sk-toggleable__content {max-height: 200px;max-width: 100%;overflow: auto;}#sk-container-id-5 input.sk-toggleable__control:checked~label.sk-toggleable__label-arrow:before {content: \"▾\";}#sk-container-id-5 div.sk-estimator input.sk-toggleable__control:checked~label.sk-toggleable__label {background-color: #d4ebff;}#sk-container-id-5 div.sk-label input.sk-toggleable__control:checked~label.sk-toggleable__label {background-color: #d4ebff;}#sk-container-id-5 input.sk-hidden--visually {border: 0;clip: rect(1px 1px 1px 1px);clip: rect(1px, 1px, 1px, 1px);height: 1px;margin: -1px;overflow: hidden;padding: 0;position: absolute;width: 1px;}#sk-container-id-5 div.sk-estimator {font-family: monospace;background-color: #f0f8ff;border: 1px dotted black;border-radius: 0.25em;box-sizing: border-box;margin-bottom: 0.5em;}#sk-container-id-5 div.sk-estimator:hover {background-color: #d4ebff;}#sk-container-id-5 div.sk-parallel-item::after {content: \"\";width: 100%;border-bottom: 1px solid gray;flex-grow: 1;}#sk-container-id-5 div.sk-label:hover label.sk-toggleable__label {background-color: #d4ebff;}#sk-container-id-5 div.sk-serial::before {content: \"\";position: absolute;border-left: 1px solid gray;box-sizing: border-box;top: 0;bottom: 0;left: 50%;z-index: 0;}#sk-container-id-5 div.sk-serial {display: flex;flex-direction: column;align-items: center;background-color: white;padding-right: 0.2em;padding-left: 0.2em;position: relative;}#sk-container-id-5 div.sk-item {position: relative;z-index: 1;}#sk-container-id-5 div.sk-parallel {display: flex;align-items: stretch;justify-content: center;background-color: white;position: relative;}#sk-container-id-5 div.sk-item::before, #sk-container-id-5 div.sk-parallel-item::before {content: \"\";position: absolute;border-left: 1px solid gray;box-sizing: border-box;top: 0;bottom: 0;left: 50%;z-index: -1;}#sk-container-id-5 div.sk-parallel-item {display: flex;flex-direction: column;z-index: 1;position: relative;background-color: white;}#sk-container-id-5 div.sk-parallel-item:first-child::after {align-self: flex-end;width: 50%;}#sk-container-id-5 div.sk-parallel-item:last-child::after {align-self: flex-start;width: 50%;}#sk-container-id-5 div.sk-parallel-item:only-child::after {width: 0;}#sk-container-id-5 div.sk-dashed-wrapped {border: 1px dashed gray;margin: 0 0.4em 0.5em 0.4em;box-sizing: border-box;padding-bottom: 0.4em;background-color: white;}#sk-container-id-5 div.sk-label label {font-family: monospace;font-weight: bold;display: inline-block;line-height: 1.2em;}#sk-container-id-5 div.sk-label-container {text-align: center;}#sk-container-id-5 div.sk-container {/* jupyter's `normalize.less` sets `[hidden] { display: none; }` but bootstrap.min.css set `[hidden] { display: none !important; }` so we also need the `!important` here to be able to override the default hidden behavior on the sphinx rendered scikit-learn.org. See: https://github.com/scikit-learn/scikit-learn/issues/21755 */display: inline-block !important;position: relative;}#sk-container-id-5 div.sk-text-repr-fallback {display: none;}</style><div id=\"sk-container-id-5\" class=\"sk-top-container\"><div class=\"sk-text-repr-fallback\"><pre>LinearRegression()</pre><b>In a Jupyter environment, please rerun this cell to show the HTML representation or trust the notebook. <br />On GitHub, the HTML representation is unable to render, please try loading this page with nbviewer.org.</b></div><div class=\"sk-container\" hidden><div class=\"sk-item\"><div class=\"sk-estimator sk-toggleable\"><input class=\"sk-toggleable__control sk-hidden--visually\" id=\"sk-estimator-id-5\" type=\"checkbox\" checked><label for=\"sk-estimator-id-5\" class=\"sk-toggleable__label sk-toggleable__label-arrow\">LinearRegression</label><div class=\"sk-toggleable__content\"><pre>LinearRegression()</pre></div></div></div></div></div>"
            ]
          },
          "metadata": {},
          "execution_count": 49
        }
      ]
    },
    {
      "cell_type": "code",
      "source": [
        "md.score(X_test,Y_test)"
      ],
      "metadata": {
        "colab": {
          "base_uri": "https://localhost:8080/"
        },
        "id": "Hb36TUoldhXu",
        "outputId": "e6e49e74-e69f-4cc1-a8e3-66995b5a1242"
      },
      "execution_count": null,
      "outputs": [
        {
          "output_type": "execute_result",
          "data": {
            "text/plain": [
              "0.6732345696914366"
            ]
          },
          "metadata": {},
          "execution_count": 50
        }
      ]
    },
    {
      "cell_type": "code",
      "source": [
        "print(X_train[0])"
      ],
      "metadata": {
        "colab": {
          "base_uri": "https://localhost:8080/"
        },
        "id": "7Y3ZpstSeSIl",
        "outputId": "72e2c7f0-de6b-4885-a148-e6f2ebc3d5c0"
      },
      "execution_count": null,
      "outputs": [
        {
          "output_type": "stream",
          "name": "stdout",
          "text": [
            "[10 2008 110000 17.7 1497.0 78.0 5.0 False False True False False False\n",
            " True False True False False False False True]\n"
          ]
        }
      ]
    },
    {
      "cell_type": "code",
      "source": [
        "input_values = [[11,2008,110000,17.7,1497.0,78.0,5.0,False,False,True,False,False,False,True,False,True,False,False,False,False,True]]"
      ],
      "metadata": {
        "id": "zD0TZM7NfGkb"
      },
      "execution_count": null,
      "outputs": []
    },
    {
      "cell_type": "code",
      "source": [
        "md.predict(input_values)"
      ],
      "metadata": {
        "colab": {
          "base_uri": "https://localhost:8080/"
        },
        "id": "bpLz97p4eTsV",
        "outputId": "acc45af9-0150-473e-8ebc-b540c60ff2b5"
      },
      "execution_count": null,
      "outputs": [
        {
          "output_type": "execute_result",
          "data": {
            "text/plain": [
              "array([117835.2832117])"
            ]
          },
          "metadata": {},
          "execution_count": 59
        }
      ]
    },
    {
      "cell_type": "code",
      "source": [
        "import pickle\n",
        "with open('CarPriceModel', 'wb') as f:\n",
        "     pickle.dump(md,f)"
      ],
      "metadata": {
        "id": "ogHYfP5IgQzL"
      },
      "execution_count": null,
      "outputs": []
    }
  ]
}